{
 "cells": [
  {
   "cell_type": "markdown",
   "metadata": {},
   "source": [
    "# Keras Tutorial for Beginners - 1. Neural Networks\n",
    "\n",
    "<br>\n",
    "<a href=#1>1. Why Neural Networks?</a>  \n",
    "<a href=#2>2. Design of Neural Network</a>  \n",
    "<ul>\n",
    "<li><a href=#2.1>2.1. Perceptron</a>   </li>\n",
    "<li><a href=#2.2>2.2. Multi-Layer perceptron = Neural Network</a>   </li>\n",
    "<li><a href=#2.3>2.3. Activation Function</a>   </li>\n",
    "<li><a href=#2.4>2.4. Loss Function</a>   </li>\n",
    "<li><a href=#2.5>2.5. Optimizer</a>   </li>\n",
    "    </ul>\n",
    "<a href=#3>3. Neural Network with Python/Keras</a> \n",
    "<ul>\n",
    "<li><a href=#3.1>3.1. Load Data</a>  </li>\n",
    "<li><a href=#3.2>3.2. Preprocessing</a>  </li>\n",
    "<li><a href=#3.3>3.3. Design a NN</a>  </li>\n",
    "<li><a href=#3.4>3.4. Compile model</a>  </li>\n",
    "<li><a href=#3.5>3.5. train model</a>  </li>\n",
    "<li><a href=#3.6>3.6. Analyze results</a>  </li>\n",
    "</ul>"
   ]
  },
  {
   "cell_type": "markdown",
   "metadata": {},
   "source": [
    "## 1. Why Neural Networks? <a id='1' />\n",
    "\n",
    "Neural Networks (NNs) are designed to solve a complicated problem, motivated by the design of a human's brain, but not really related to biological functions. A NN enables us to train a model by feeding it input parameters/features and utilizing hidden layers with weights that are adjusted in the training process. NNs are really powerful tools to solve complex, non-linear real-world problems.\n",
    "\n",
    "NNs can use many hidden layers, which save results of combinations of weighted-features from the previous layer (or input values), or some normalization functions called activation functions. Activation functions serve a valuable purpose of preventing the model from being just a combination of linear regressions.\n",
    "\n",
    "<img src=\"./images/nn.jpeg\" width=\"500\">\n",
    "<center><font color='gray'>Image from [here](https://becominghuman.ai/artificial-neuron-networks-basics-introduction-to-neural-networks-3082f1dcca8c)</font> </center>\n"
   ]
  },
  {
   "cell_type": "markdown",
   "metadata": {},
   "source": [
    "This tutorial will help you how to use Keras to train a NN model. There are several different popular other packages, but Keras is open source neural network library and user-friendly and very easy to learn. Very simple, not difficult at all. Let's start!"
   ]
  },
  {
   "cell_type": "markdown",
   "metadata": {},
   "source": [
    "## 2. Design of Neural Network <a name='2' />\n",
    "\n",
    "The figure below is an example of design of NN.\n",
    "\n",
    "<img src=\"./images/nn.6.jpg\">\n",
    "\n",
    "It looks pretty complicated, huh? I want to discuss about \"perceptron\" first. It will be helpful!"
   ]
  },
  {
   "cell_type": "markdown",
   "metadata": {},
   "source": [
    "### 2.1. Perceptron <a name='2.1' />\n",
    "<img src=\"./images/perceptron.png\" width=\"450\">\n",
    "\n",
    "A perceptron is a single layer neural network, while a multi-layer perceptron is called Neural Network.\n",
    "\n",
    "How does it work?\n",
    "All input features have associated weights and are summed together. Then an activation function is applied. One such activation function is the step function, which results in either a zero or a one, depending on whether the summation is above the threshold activation value or not. Perceptrons are usually used to classify data into two parts. Therefore, it is also known as a Linear Binary Classifier."
   ]
  },
  {
   "cell_type": "markdown",
   "metadata": {},
   "source": [
    "\n",
    "### 2.2. Multi-Layer perceptron = Neural Network <a name='2.2' />\n",
    "If so, what are Neural Networks? As mentioned previously, it is multi-layer perceptron.\n",
    "\n",
    "<img src=\"./images/nn.gif\" width=\"700\">\n",
    "\n",
    "Designing the model is an important first step to training a NN. We can use one or two hidden layers with different numbers of nodes, or a lot of hidden layers, for example. Let me explain the example above. There are two hidden layers (\"hidden layers\" are layers between input layers and the output) with multiple neurons. Each neuron is a weighted sum of the previous nodes. An activation function is used at each node to decide whether it will be activated from the weighted sum of the previous nodes feeding it. "
   ]
  },
  {
   "cell_type": "markdown",
   "metadata": {},
   "source": [
    "\n",
    "### 2.3. Activation Function <a name='2.3' />\n",
    "\n",
    "I previously introduced the step function as an activation function, but NNs commonly use some other activation functions, such as the sigmoid function and the reLu function. \n",
    "The activation function h(a) can be denoted as follows:\n",
    "\n",
    "<p>\n",
    "<center> $a$= $w_1$ $x_1$ + $w_2$ $x_2$ + $w_3$ $x_3$+ .... $w_8$ $x_8$ + $w_9$ $x_9$ + $w_{10}$ $x_{10}$ </center> \n",
    "<center> $y$ = $h(a)$ </center>\n",
    "\n",
    "The plots below show the different types of activation functions normally used. Note that activation functions should be non-linear, because otherwise it would produce a NN that is a linear regression."
   ]
  },
  {
   "cell_type": "code",
   "execution_count": 1,
   "metadata": {
    "ExecuteTime": {
     "end_time": "2018-08-29T14:08:45.507394Z",
     "start_time": "2018-08-29T14:08:44.898485Z"
    }
   },
   "outputs": [],
   "source": [
    "import matplotlib.pyplot as plt\n",
    "%matplotlib inline\n",
    "import numpy as np\n",
    "import math\n",
    "\n",
    "x=np.linspace(-4,4,100)\n",
    "fun = {'sigmoid':[1 / (1 + math.exp(-i)) for i in x],\n",
    "      'tanh':np.tanh(x),\n",
    "      'ReLu':np.maximum(0, x)}\n",
    "name = ['sigmoid','tanh','ReLu']\n",
    "\n",
    "plt.figure(figsize=(12,3))\n",
    "for i in range(3):\n",
    "    plt.subplot(1,3,i+1)\n",
    "    plt.plot(x,fun[name[i]],label=name[i])\n",
    "    plt.grid()\n",
    "    plt.title(name[i])"
   ]
  },
  {
   "cell_type": "markdown",
   "metadata": {},
   "source": [
    "You can read [this medium post](https://medium.com/the-theory-of-everything/understanding-activation-functions-in-neural-networks-9491262884e0) and [this post](https://adl1995.github.io/an-overview-of-activation-functions-used-in-neural-networks.html) to understand activation functions in greater detail."
   ]
  },
  {
   "cell_type": "markdown",
   "metadata": {},
   "source": [
    "### 2.4. Loss Function  <a name='2.4' />\n",
    "\n",
    "This loss function returns a numerical value that is lower if the model predicts the true label, and higher if it gets the wrong answer. As with other classification tasks in machine learning, we want to minimize the loss function to train our model to give us the highest accuracy possible. Let's assume that we have 4 labels in our data. The true labels are one-hot encoded, and each label is a vector with 4 entries. The model outputs a vector having 4 entries, where each entry corresponds to the probability of that label.\n",
    "\n",
    "<img src=\"./images/skier_awesome.png\" width=\"550\">\n",
    "\n",
    "<center><font color='gray'> Illustration of error/loss function.</font></center>\n",
    "<center><font color='gray'> The goal is to minimize the error by seeking parameters (weights) that minimize the loss function. </font></center>\n",
    "  <center><font color='gray'>   (Source: modified from Udacity Machine Learning Nano Degree image) </font></center>"
   ]
  },
  {
   "cell_type": "markdown",
   "metadata": {},
   "source": [
    "There are several different loss functions, but cross entropy is one of the most popular loss functions for classification models. Here, I want to focus on explaining cross entropy function. If we train regression models, we can alternatively use mean square error (mse) or mean absolute error (mae) as a loss function. [Here](https://isaacchanghau.github.io/post/loss_functions/) is a good reference to learn more about loss functions.\n",
    "\n",
    "### categorical cross entropy\n",
    "\n",
    "As previously stated, cross entropy is commonly used for classification models. In the case of multi-classification, categorical cross entropy is used while binary cross entropy is used for binary classification. \n",
    "\n",
    "<img src=\"./images/logloss.png\" width=\"300\">\n",
    "\n",
    "where M is the number of classifiers and N is the number of observations. $y_{ij}$ gives the known label between observation $i$ and label $j$ (0 or 1). $p_{ij}$ is the prediction of observation $i$ being label $j$. The plot below shows the shape of log-loss function when the label is 1."
   ]
  },
  {
   "cell_type": "code",
   "execution_count": 2,
   "metadata": {
    "ExecuteTime": {
     "end_time": "2018-08-29T14:08:47.319884Z",
     "start_time": "2018-08-29T14:08:47.112838Z"
    }
   },
   "outputs": [
    {
     "data": {
      "image/png": "[encoded data removed]",
      "text/plain": [
       "<matplotlib.figure.Figure at 0x10f43c400>"
      ]
     },
     "metadata": {},
     "output_type": "display_data"
    }
   ],
   "source": [
    "x=np.linspace(0.0001,1,10000)\n",
    "plt.plot(x,-np.log(x))\n",
    "plt.title('log loss when label=1')\n",
    "plt.ylabel('log loss')\n",
    "plt.xlabel('predicted probability')\n",
    "plt.ylim(-1,10);"
   ]
  },
  {
   "cell_type": "markdown",
   "metadata": {},
   "source": [
    "We can see very high log loss for the low predicted probability (especially below 0.1).\n",
    "\n",
    "Let's look at a specific example. Below I show an example of images that have been classified as either Human, Dog, Cat, or Bird, and the resulting log-loss printed at the bottom. Note that Tom Cruise is not a cat, even though the classifier thinks he looks like one.\n",
    "<img src=\"./images/loss.001.jpeg\" width=\"650\">\n",
    "\n",
    "Let's imagine that the classifier predictions above for human, dog, cat, and bird were made after the first epoch of training. We calculate the log-loss value following the equation above, and obtain a value of 0.67. \n",
    "\n",
    "<img src=\"./images/loss.002.jpeg\" width=\"650\">\n",
    "\n",
    "Our model then adjusts the weights for the second epoch, and if the predictions change to favor the true labels more, then the loss function decreases. Let's imagine that we have a second epoch with results given above (right). In this case, the log loss is 0.35, which is much better than the previous one. Eventually, if our model is good enough, we would find at the end of our training that it correctly labels most images."
   ]
  },
  {
   "cell_type": "markdown",
   "metadata": {},
   "source": [
    "### 2.5. Optimizer <a name='2.5' />\n",
    "\n",
    "The last part I want to discuss is the optimizer. A NN seeks the best parameters (weights) to minimize the loss function. A number of algorithms can be used to adjust the weights and bring them closer to the ideal values (the parameters that minimize the loss function), and these algorithms are called \"optimizers\".\n",
    "\n",
    "The simplest form of optimizer is Stochastic Gradient Descent (SGD), which is to change the parameters along the negative of the gradient direction. Recall that the gradient is the partial derivative, and the gradient tells you the direction of increasing slope. Therefore, each step of gradient descent will subtract the gradient from each weight, which moves the weights towards a lower loss function, overall.\n",
    "\n",
    "However, this algorithm is slow to converge to a solution and can sometimes get stuck in a local minimum that causes it to miss a global minimum. So, there are several other optimizers, such as AdaGrad, RMSprop, and Adam, that have been found to be more successful. You can read [these awesome lecture notes](http://cs231n.github.io/neural-networks-3/#update) to find out more.\n",
    "\n",
    "\n",
    "<img src=\"./images/opt1.gif\" align=\"left\" width=\"380\">\n",
    "<img src=\"./images/opt2.gif\" align=\"right\" width=\"380\">\n",
    "\n",
    "<center><font color='gray'>Animation from [here](http://cs231n.github.io/neural-networks-3/#update) (image credit: Alec Radford.)</font></center>"
   ]
  },
  {
   "cell_type": "markdown",
   "metadata": {},
   "source": [
    "Note above the slowness of SGD at convergence compared to the other methods."
   ]
  },
  {
   "cell_type": "markdown",
   "metadata": {},
   "source": [
    "## 3. Neural Network with Python/Keras <a name='3' />\n",
    "\n",
    "All right. Here, I want to show a working example with Python/Keras. We will use the following simple steps to train a NN with Keras.\n",
    "\n",
    "- (1) Load Data\n",
    "- (2) Preprocessing\n",
    "- (3) Design a model\n",
    "- (4) Compile model\n",
    "- (5) Train model\n",
    "- (6) Analyze results"
   ]
  },
  {
   "cell_type": "markdown",
   "metadata": {
    "ExecuteTime": {
     "end_time": "2018-08-28T15:43:56.531005Z",
     "start_time": "2018-08-28T15:43:56.144981Z"
    }
   },
   "source": [
    "### 3.1. Load Data <a name='3.1' />\n",
    "\n",
    "The MNIST database (Modified National Institute of Standards and Technology database) is a large database of handwritten digits that is commonly used for training various image processing systems ([Wikipedia](https://en.wikipedia.org/wiki/MNIST_database)). Keras provides some datasets, like MNIST, for easy testing. We can easily load data using keras.datasets. [Here](https://keras.io/datasets/) is a list of datasets Keras provides. \n",
    "\n",
    "Let's load the MNIST dataset of hand-written numbers from 0-9.\n",
    "\n",
    "\n",
    "```python\n",
    "from keras.datasets import mnist\n",
    "\n",
    "(train_features, train_labels), (test_features, test_labels) = mnist.load_data()\n",
    "num_input_nodes = 28 * 28\n",
    "num_classes = 10\n",
    "```\n",
    "\n",
    "<img src=\"./images/mnist_ex.png\" width=\"650\">\n",
    "Examples of MNIST images"
   ]
  },
  {
   "cell_type": "markdown",
   "metadata": {},
   "source": [
    "### 3.2. Preprocessing <a name='3.2' />\n",
    "\n",
    "The input dataset consists of 60,000 images, each of them 28$\\times$28 pixels. However, a regular NN isn't designed to handle 2D image data, and so we must pre-process the images by reshaping them into single-column vectors. To pre-process the images, I'll use a Keras utility called np_utils. I also use the to_categorical method to create a matrix with dummy variables for the 10 classes.\n",
    "``` python\n",
    "# reshape images to column vectors\n",
    "train_features = train_features.reshape(train_features.shape[0], 28*28)\n",
    "test_features = test_features.reshape(test_features.shape[0], 28*28)\n",
    "\n",
    "# convert class labels to binary class labels\n",
    "from keras.utils import np_utils\n",
    "\n",
    "train_y = np_utils.to_categorical(train_labels, num_classes)\n",
    "test_y = np_utils.to_categorical(test_labels, num_classes)\n",
    "```\n",
    "\n",
    "<img src=\"./images/0_ex.jpeg\" width=\"550\">"
   ]
  },
  {
   "cell_type": "markdown",
   "metadata": {
    "ExecuteTime": {
     "end_time": "2018-08-28T15:43:56.611030Z",
     "start_time": "2018-08-28T15:43:56.597435Z"
    }
   },
   "source": [
    "### 3.3. Design a NN <a name='3.3' />\n",
    "\n",
    "``` python\n",
    "from keras.models import Sequential\n",
    "from keras.layers.core import Dense, Activation\n",
    "\n",
    "def create_model():\n",
    "    ## model start!\n",
    "    model = Sequential()\n",
    "    ## first hidden layer\n",
    "    model.add(Dense(100, input_dim = num_input_nodes))\n",
    "    model.add(Activation('relu'))\n",
    "    ## second hidden layer\n",
    "    model.add(Dense(100))\n",
    "    model.add(Activation('relu'))\n",
    "    ## third hidden layer (number of nodes should be same to the number of classifier)\n",
    "    model.add(Dense(num_classes))\n",
    "    model.add(Activation('sigmoid'))\n",
    "    return model\n",
    "```\n",
    "\n",
    "- Sequential() : a linear stack of layers. We can initialize the NN with a Sequential model.   \n",
    "- Dense() : a regular NN layer, which has densely-connected nodes (in our case, we use 100 nodes here).   \n",
    "- Activation() : an activation function. We can specify a number of activation functions that we've previously discussed, including sigmoid, ReLU, softmax, etc. The model usually includes many activation functions. \n",
    "\n",
    "The final step is adding Dense() layer with nodes equal to the number of classes, and an activation function to derive each probability.\n",
    "\n",
    "<img src=\"./images/model.001.jpeg\" width=\"850\">\n",
    "\n",
    "\n",
    "The number of parameters listed in the right columns shows the number of independent weights that must be determined in the training of the model. The first dense layer, because it has fully-connected nodes, will have (28[width] $\\times$ 28[height] + 1 [bias])$\\times$ 100 weights. The next layer has (100 + 1[bias])$\\times$100 weights. And the last (output) layer consists of (100 + 1 [bias])$\\times$10 weights. That brings the total number of parameters in our model up to nearly 90,000, despite only having two simple layers. You can see how these NNs could become very difficult to train on most people's personal computer.\n"
   ]
  },
  {
   "cell_type": "markdown",
   "metadata": {},
   "source": [
    "### 3.4. Compile model <a name='3.4' />\n",
    "\n",
    "Next step is to configure the model for training with optimizer, loss function, and metrics. When initializing the optimizer, we can specify the learning rate (lr) which sets the relative size of the changes in weights with each training step. A larger learning rate might help you reach convergence faster, but if it is too large, you might fail to find the best minimum loss function. Conversely, if the learning rate is too small, it will fail to converge fast enough. You can check the default learning rate for different Keras optimizers [here](https://keras.io/optimizers/).\n",
    "\n",
    "``` python\n",
    "from keras.optimizers import *\n",
    "\n",
    "model = create_model()\n",
    "## choose an optimizer. Here, I will choose SGD with learning rate=0.01\n",
    "opt = SGD(lr=0.01)\n",
    "#opt = RMSprop()\n",
    "#opt = Adam()\n",
    "model.compile(optimizer=opt, loss='categorical_crossentropy', metrics=['accuracy'])\n",
    "```\n"
   ]
  },
  {
   "cell_type": "markdown",
   "metadata": {},
   "source": [
    "### 3.5. train model <a name='3.5' />\n",
    "\n",
    "Finally, we are ready to train the model, specifying a batch size of 64, 20 epochs, and a validation split of 20%. You can adjust batch size and number of epochs: higher batch size or lots of epochs might take longer time.\n",
    "```python\n",
    "model_info  = model.fit(train_features, train_labels, batch_size=64, \\\n",
    "                       epochs=50, verbose=2, validation_split=0.2)\n",
    "```\n",
    "\n",
    "That's it! The code below includes all of the steps we have covered so far. You can run the cell below."
   ]
  },
  {
   "cell_type": "code",
   "execution_count": 11,
   "metadata": {
    "ExecuteTime": {
     "end_time": "2018-08-29T14:40:05.663734Z",
     "start_time": "2018-08-29T14:39:05.158205Z"
    }
   },
   "outputs": [
    {
     "name": "stdout",
     "output_type": "stream",
     "text": [
      "Train on 48000 samples, validate on 12000 samples\n",
      "Epoch 1/30\n",
      " - 2s - loss: 1.8161 - acc: 0.5911 - val_loss: 1.3806 - val_acc: 0.7857\n",
      "Epoch 2/30\n",
      " - 2s - loss: 1.1131 - acc: 0.8039 - val_loss: 0.8671 - val_acc: 0.8503\n",
      "Epoch 3/30\n",
      " - 2s - loss: 0.7479 - acc: 0.8590 - val_loss: 0.6137 - val_acc: 0.8833\n",
      "Epoch 4/30\n",
      " - 2s - loss: 0.5680 - acc: 0.8824 - val_loss: 0.4863 - val_acc: 0.8982\n",
      "Epoch 5/30\n",
      " - 2s - loss: 0.4718 - acc: 0.8943 - val_loss: 0.4190 - val_acc: 0.9038\n",
      "Epoch 6/30\n",
      " - 2s - loss: 0.4139 - acc: 0.9019 - val_loss: 0.3726 - val_acc: 0.9089\n",
      "Epoch 7/30\n",
      " - 3s - loss: 0.3731 - acc: 0.9079 - val_loss: 0.3478 - val_acc: 0.9117\n",
      "Epoch 8/30\n",
      " - 2s - loss: 0.3453 - acc: 0.9119 - val_loss: 0.3201 - val_acc: 0.9193\n",
      "Epoch 9/30\n",
      " - 2s - loss: 0.3238 - acc: 0.9169 - val_loss: 0.2996 - val_acc: 0.9215\n",
      "Epoch 10/30\n",
      " - 2s - loss: 0.3040 - acc: 0.9197 - val_loss: 0.2855 - val_acc: 0.9243\n",
      "Epoch 11/30\n",
      " - 2s - loss: 0.2894 - acc: 0.9236 - val_loss: 0.2806 - val_acc: 0.9243\n",
      "Epoch 12/30\n",
      " - 2s - loss: 0.2780 - acc: 0.9259 - val_loss: 0.2614 - val_acc: 0.9283\n",
      "Epoch 13/30\n",
      " - 2s - loss: 0.2653 - acc: 0.9288 - val_loss: 0.2597 - val_acc: 0.9322\n",
      "Epoch 14/30\n",
      " - 2s - loss: 0.2552 - acc: 0.9301 - val_loss: 0.2546 - val_acc: 0.9315\n",
      "Epoch 15/30\n",
      " - 2s - loss: 0.2494 - acc: 0.9329 - val_loss: 0.2454 - val_acc: 0.9342\n",
      "Epoch 16/30\n",
      " - 2s - loss: 0.2386 - acc: 0.9340 - val_loss: 0.2321 - val_acc: 0.9354\n",
      "Epoch 17/30\n",
      " - 3s - loss: 0.2353 - acc: 0.9346 - val_loss: 0.2323 - val_acc: 0.9369\n",
      "Epoch 18/30\n",
      " - 2s - loss: 0.2277 - acc: 0.9372 - val_loss: 0.2309 - val_acc: 0.9369\n",
      "Epoch 19/30\n",
      " - 2s - loss: 0.2202 - acc: 0.9399 - val_loss: 0.2243 - val_acc: 0.9374\n",
      "Epoch 20/30\n",
      " - 2s - loss: 0.2139 - acc: 0.9407 - val_loss: 0.2170 - val_acc: 0.9395\n",
      "Epoch 21/30\n",
      " - 2s - loss: 0.2092 - acc: 0.9420 - val_loss: 0.2181 - val_acc: 0.9383\n",
      "Epoch 22/30\n",
      " - 2s - loss: 0.2087 - acc: 0.9421 - val_loss: 0.2163 - val_acc: 0.9394\n",
      "Epoch 23/30\n",
      " - 2s - loss: 0.2033 - acc: 0.9427 - val_loss: 0.2092 - val_acc: 0.9417\n",
      "Epoch 24/30\n",
      " - 2s - loss: 0.1973 - acc: 0.9444 - val_loss: 0.2076 - val_acc: 0.9403\n",
      "Epoch 25/30\n",
      " - 2s - loss: 0.1965 - acc: 0.9452 - val_loss: 0.2070 - val_acc: 0.9416\n",
      "Epoch 26/30\n",
      " - 2s - loss: 0.1903 - acc: 0.9470 - val_loss: 0.1991 - val_acc: 0.9464\n",
      "Epoch 27/30\n",
      " - 2s - loss: 0.1877 - acc: 0.9470 - val_loss: 0.2018 - val_acc: 0.9448\n",
      "Epoch 28/30\n",
      " - 2s - loss: 0.1862 - acc: 0.9480 - val_loss: 0.1939 - val_acc: 0.9443\n",
      "Epoch 29/30\n",
      " - 2s - loss: 0.1820 - acc: 0.9488 - val_loss: 0.1938 - val_acc: 0.9467\n",
      "Epoch 30/30\n",
      " - 2s - loss: 0.1828 - acc: 0.9482 - val_loss: 0.1930 - val_acc: 0.9451\n"
     ]
    }
   ],
   "source": [
    "from keras.datasets import mnist\n",
    "from keras.utils import np_utils\n",
    "from keras.models import Sequential\n",
    "from keras.layers.core import Dense, Activation\n",
    "from keras.optimizers import *\n",
    "\n",
    "## 1. Load Data\n",
    "(train_features, train_labels), (test_features, test_labels) = mnist.load_data()\n",
    "num_input_nodes = 28 * 28\n",
    "num_classes = 10\n",
    "\n",
    "## 2. Preprocessing\n",
    "train_features = train_features.reshape(train_features.shape[0], 28*28)\n",
    "test_features = test_features.reshape(test_features.shape[0], 28*28)\n",
    "\n",
    "train_y = np_utils.to_categorical(train_labels, num_classes)\n",
    "test_y = np_utils.to_categorical(test_labels, num_classes)\n",
    "  \n",
    "## 3. Design a model\n",
    "model = Sequential()\n",
    "model.add(Dense(100, input_dim = num_input_nodes))\n",
    "model.add(Activation('sigmoid'))\n",
    "model.add(Dense(100))\n",
    "model.add(Activation('sigmoid'))\n",
    "model.add(Dense(num_classes))\n",
    "model.add(Activation('softmax'))\n",
    "\n",
    "## 4. Compile model\n",
    "opt = SGD(lr=0.01)\n",
    "#opt = RMSprop()\n",
    "#opt = Adam()\n",
    "model.compile(optimizer=opt, loss='categorical_crossentropy', metrics=['accuracy'])\n",
    "\n",
    "## 5. Train model\n",
    "batch_size=64; epoch=30\n",
    "model_info  = model.fit(train_features, train_y, batch_size=batch_size, \\\n",
    "                   epochs=epoch, verbose=2, validation_split=0.2)"
   ]
  },
  {
   "cell_type": "markdown",
   "metadata": {},
   "source": [
    "### 3.6. Analyze results  <a name='3.6' />\n",
    "\n",
    "### (1) plot learning curves"
   ]
  },
  {
   "cell_type": "code",
   "execution_count": 12,
   "metadata": {
    "ExecuteTime": {
     "end_time": "2018-08-29T14:40:06.235904Z",
     "start_time": "2018-08-29T14:40:05.668859Z"
    }
   },
   "outputs": [
    {
     "data": {
      "image/png": "[encoded data removed]",
      "text/plain": [
       "<matplotlib.figure.Figure at 0x124fb1198>"
      ]
     },
     "metadata": {},
     "output_type": "display_data"
    }
   ],
   "source": [
    "## plot a result\n",
    "import matplotlib.pyplot as plt\n",
    "import numpy as np\n",
    "\n",
    "n = len(model_info.history['acc'])\n",
    "fig = plt.figure(figsize=(15,6))\n",
    "ax1 = fig.add_subplot(121)\n",
    "\n",
    "ax1.plot(range(1,n+1),model_info.history['acc'],linewidth=5)\n",
    "ax1.plot(range(1,n+1),model_info.history['val_acc'],linewidth=5)\n",
    "plt.ylabel('Accuracy',fontsize=20)\n",
    "plt.xlabel('Epoch',fontsize=20)\n",
    "ax1.set_xticks(np.arange(1,n+1),n/10)\n",
    "ax1.legend(['train', 'val'], loc='best',fontsize=15)\n",
    "\n",
    "ax2 = fig.add_subplot(122)\n",
    "ax2.plot(range(1,n+1),model_info.history['loss'],linewidth=5)\n",
    "ax2.plot(range(1,n+1),model_info.history['val_loss'],linewidth=5)\n",
    "plt.ylabel('Loss',fontsize=20)\n",
    "plt.xlabel('Epoch',fontsize=20)\n",
    "ax2.set_xticks(np.arange(1,n+1),n/10)\n",
    "ax2.legend(['train', 'val'], loc='best',fontsize=15)\n",
    "plt.show()"
   ]
  },
  {
   "cell_type": "markdown",
   "metadata": {},
   "source": [
    "The learning curves above show how much the accuracy (left) increased for the training and validation set as the number of epochs of training increased, and how much the log-loss value (right) decreased over the same set of epochs. Note that the difference between accuracies of training and validation sets can tell you whether you are overfitting (if you have much higher accuracy for your training set). Also note that both learning curves flatten out and don't significantly change over the last five epochs or so. This means that our NN has pretty much converged. If you examine the learning curves from your NN, and you don't see this sign of convergence, then you want to consider re-training your NN using more epochs."
   ]
  },
  {
   "cell_type": "code",
   "execution_count": 13,
   "metadata": {
    "ExecuteTime": {
     "end_time": "2018-08-29T14:40:10.247483Z",
     "start_time": "2018-08-29T14:40:06.238447Z"
    }
   },
   "outputs": [
    {
     "name": "stdout",
     "output_type": "stream",
     "text": [
      "Accuracy with test dataset : 0.946\n"
     ]
    }
   ],
   "source": [
    "predictions = [np.argmax(model.predict(np.expand_dims(feature, axis=0)))\n",
    "             for feature in test_features]\n",
    "true_class = np.argmax(test_y, axis=1)\n",
    "num_correct = np.sum(predictions == true_class) \n",
    "accuracy = float(num_correct)/test_features.shape[0]\n",
    "print('Accuracy with test dataset : ' + str(accuracy))"
   ]
  },
  {
   "cell_type": "markdown",
   "metadata": {},
   "source": [
    "Not bad, huh?"
   ]
  },
  {
   "cell_type": "markdown",
   "metadata": {},
   "source": [
    "### (2) confusion matrix\n",
    "\n",
    "A helpful way to assess the performance of a classification model is to check the confusion matrix. In our case, the confusion matrix has 10 rows and 10 columns (the rows being true labels and the columns being predicted labels), where each cell denotes the number of test samples that belong to that pair. If our classifier is perfect, all samples will be on the diagonal."
   ]
  },
  {
   "cell_type": "code",
   "execution_count": 14,
   "metadata": {
    "ExecuteTime": {
     "end_time": "2018-08-29T14:40:10.851266Z",
     "start_time": "2018-08-29T14:40:10.250549Z"
    }
   },
   "outputs": [
    {
     "data": {
      "image/png": "[encoded data removed]",
      "text/plain": [
       "<matplotlib.figure.Figure at 0x11c1d2cf8>"
      ]
     },
     "metadata": {},
     "output_type": "display_data"
    }
   ],
   "source": [
    "from sklearn.metrics import accuracy_score, confusion_matrix, log_loss\n",
    "import seaborn as sns\n",
    "confusion = confusion_matrix(test_labels,predictions)\n",
    "## Plot Confusion Matrix\n",
    "fig = plt.figure(figsize=(7,7))\n",
    "ax = fig.add_subplot(111)\n",
    "ax = sns.heatmap(confusion, ax=ax, cmap=plt.cm.Oranges, annot=True,fmt='3d')\n",
    "#    ax.set_xticklabels(range(10))\n",
    "#    ax.set_yticklabels(range(10))\n",
    "plt.title('Confusion Matrix',size=20)\n",
    "plt.ylabel('True',size=16)\n",
    "plt.xlabel('Predicted',size=16);"
   ]
  },
  {
   "cell_type": "markdown",
   "metadata": {},
   "source": [
    "Done! I hope you have found this tutorial helpful, and you get to work making your own NNs to solve all kinds of problems. Good Luck! In the next tutorial, we will tackle Convolutional Neural Networks (CNNs), which are more helpful to classify image data."
   ]
  }
 ],
 "metadata": {
  "kernelspec": {
   "display_name": "Python 3",
   "language": "python",
   "name": "python3"
  },
  "language_info": {
   "codemirror_mode": {
    "name": "ipython",
    "version": 3
   },
   "file_extension": ".py",
   "mimetype": "text/x-python",
   "name": "python",
   "nbconvert_exporter": "python",
   "pygments_lexer": "ipython3",
   "version": "3.6.3"
  },
  "latex_envs": {
   "LaTeX_envs_menu_present": true,
   "autoclose": false,
   "autocomplete": true,
   "bibliofile": "biblio.bib",
   "cite_by": "apalike",
   "current_citInitial": 1,
   "eqLabelWithNumbers": true,
   "eqNumInitial": 1,
   "hotkeys": {
    "equation": "Ctrl-E",
    "itemize": "Ctrl-I"
   },
   "labels_anchors": false,
   "latex_user_defs": false,
   "report_style_numbering": false,
   "user_envs_cfg": false
  }
 },
 "nbformat": 4,
 "nbformat_minor": 2
}
